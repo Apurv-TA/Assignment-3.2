{
 "cells": [
  {
   "cell_type": "markdown",
   "id": "84a18f49",
   "metadata": {},
   "source": [
    "# Hands-on example"
   ]
  },
  {
   "cell_type": "code",
   "execution_count": 1,
   "id": "bb314aea",
   "metadata": {},
   "outputs": [],
   "source": [
    "import os\n",
    "import warnings\n",
    "import sys\n",
    "\n",
    "import numpy as np\n",
    "import pandas as pd\n",
    "\n",
    "from sklearn.metrics import mean_squared_error, mean_absolute_error, r2_score\n",
    "from sklearn.model_selection import train_test_split\n",
    "from sklearn.linear_model import ElasticNet\n",
    "\n",
    "import mlflow\n",
    "import mlflow.sklearn"
   ]
  },
  {
   "cell_type": "code",
   "execution_count": 2,
   "id": "4e7b234e",
   "metadata": {},
   "outputs": [],
   "source": [
    "pd.set_option(\"display.max_columns\", 15)"
   ]
  },
  {
   "cell_type": "markdown",
   "id": "79e175c7",
   "metadata": {},
   "source": [
    "# 0. The data"
   ]
  },
  {
   "cell_type": "code",
   "execution_count": 3,
   "id": "fb529aa2",
   "metadata": {},
   "outputs": [
    {
     "name": "stdout",
     "output_type": "stream",
     "text": [
      "df shape -> (4898, 12)\n"
     ]
    },
    {
     "data": {
      "text/html": [
       "<div>\n",
       "<style scoped>\n",
       "    .dataframe tbody tr th:only-of-type {\n",
       "        vertical-align: middle;\n",
       "    }\n",
       "\n",
       "    .dataframe tbody tr th {\n",
       "        vertical-align: top;\n",
       "    }\n",
       "\n",
       "    .dataframe thead th {\n",
       "        text-align: right;\n",
       "    }\n",
       "</style>\n",
       "<table border=\"1\" class=\"dataframe\">\n",
       "  <thead>\n",
       "    <tr style=\"text-align: right;\">\n",
       "      <th></th>\n",
       "      <th>fixed acidity</th>\n",
       "      <th>volatile acidity</th>\n",
       "      <th>citric acid</th>\n",
       "      <th>residual sugar</th>\n",
       "      <th>chlorides</th>\n",
       "      <th>free sulfur dioxide</th>\n",
       "      <th>total sulfur dioxide</th>\n",
       "      <th>density</th>\n",
       "      <th>pH</th>\n",
       "      <th>sulphates</th>\n",
       "      <th>alcohol</th>\n",
       "      <th>quality</th>\n",
       "    </tr>\n",
       "  </thead>\n",
       "  <tbody>\n",
       "    <tr>\n",
       "      <th>0</th>\n",
       "      <td>7.0</td>\n",
       "      <td>0.27</td>\n",
       "      <td>0.36</td>\n",
       "      <td>20.7</td>\n",
       "      <td>0.045</td>\n",
       "      <td>45.0</td>\n",
       "      <td>170.0</td>\n",
       "      <td>1.0010</td>\n",
       "      <td>3.00</td>\n",
       "      <td>0.45</td>\n",
       "      <td>8.8</td>\n",
       "      <td>6</td>\n",
       "    </tr>\n",
       "    <tr>\n",
       "      <th>1</th>\n",
       "      <td>6.3</td>\n",
       "      <td>0.30</td>\n",
       "      <td>0.34</td>\n",
       "      <td>1.6</td>\n",
       "      <td>0.049</td>\n",
       "      <td>14.0</td>\n",
       "      <td>132.0</td>\n",
       "      <td>0.9940</td>\n",
       "      <td>3.30</td>\n",
       "      <td>0.49</td>\n",
       "      <td>9.5</td>\n",
       "      <td>6</td>\n",
       "    </tr>\n",
       "    <tr>\n",
       "      <th>2</th>\n",
       "      <td>8.1</td>\n",
       "      <td>0.28</td>\n",
       "      <td>0.40</td>\n",
       "      <td>6.9</td>\n",
       "      <td>0.050</td>\n",
       "      <td>30.0</td>\n",
       "      <td>97.0</td>\n",
       "      <td>0.9951</td>\n",
       "      <td>3.26</td>\n",
       "      <td>0.44</td>\n",
       "      <td>10.1</td>\n",
       "      <td>6</td>\n",
       "    </tr>\n",
       "    <tr>\n",
       "      <th>3</th>\n",
       "      <td>7.2</td>\n",
       "      <td>0.23</td>\n",
       "      <td>0.32</td>\n",
       "      <td>8.5</td>\n",
       "      <td>0.058</td>\n",
       "      <td>47.0</td>\n",
       "      <td>186.0</td>\n",
       "      <td>0.9956</td>\n",
       "      <td>3.19</td>\n",
       "      <td>0.40</td>\n",
       "      <td>9.9</td>\n",
       "      <td>6</td>\n",
       "    </tr>\n",
       "    <tr>\n",
       "      <th>4</th>\n",
       "      <td>7.2</td>\n",
       "      <td>0.23</td>\n",
       "      <td>0.32</td>\n",
       "      <td>8.5</td>\n",
       "      <td>0.058</td>\n",
       "      <td>47.0</td>\n",
       "      <td>186.0</td>\n",
       "      <td>0.9956</td>\n",
       "      <td>3.19</td>\n",
       "      <td>0.40</td>\n",
       "      <td>9.9</td>\n",
       "      <td>6</td>\n",
       "    </tr>\n",
       "  </tbody>\n",
       "</table>\n",
       "</div>"
      ],
      "text/plain": [
       "   fixed acidity  volatile acidity  citric acid  residual sugar  chlorides  \\\n",
       "0            7.0              0.27         0.36            20.7      0.045   \n",
       "1            6.3              0.30         0.34             1.6      0.049   \n",
       "2            8.1              0.28         0.40             6.9      0.050   \n",
       "3            7.2              0.23         0.32             8.5      0.058   \n",
       "4            7.2              0.23         0.32             8.5      0.058   \n",
       "\n",
       "   free sulfur dioxide  total sulfur dioxide  density    pH  sulphates  \\\n",
       "0                 45.0                 170.0   1.0010  3.00       0.45   \n",
       "1                 14.0                 132.0   0.9940  3.30       0.49   \n",
       "2                 30.0                  97.0   0.9951  3.26       0.44   \n",
       "3                 47.0                 186.0   0.9956  3.19       0.40   \n",
       "4                 47.0                 186.0   0.9956  3.19       0.40   \n",
       "\n",
       "   alcohol  quality  \n",
       "0      8.8        6  \n",
       "1      9.5        6  \n",
       "2     10.1        6  \n",
       "3      9.9        6  \n",
       "4      9.9        6  "
      ]
     },
     "execution_count": 3,
     "metadata": {},
     "output_type": "execute_result"
    }
   ],
   "source": [
    "data_path = \"data/wine-quality.csv\"\n",
    "df = pd.read_csv(data_path)\n",
    "\n",
    "print(f\"df shape -> {df.shape}\")\n",
    "df.head()"
   ]
  },
  {
   "cell_type": "markdown",
   "id": "59850645",
   "metadata": {},
   "source": [
    "# 1. Tracking experiments"
   ]
  },
  {
   "cell_type": "code",
   "execution_count": 4,
   "id": "4ebfc76c",
   "metadata": {},
   "outputs": [],
   "source": [
    "# mlflow server --backend-store-uri mlruns/ --default-artifact-root mlruns/ --host 0.0.0.0 --port 5000\n",
    "remote_server_uri = \"http://0.0.0.0:5000\" # set to your server URI\n",
    "mlflow.set_tracking_uri(remote_server_uri)  # or set the MLFLOW_TRACKING_URI in the env"
   ]
  },
  {
   "cell_type": "code",
   "execution_count": 5,
   "id": "9564c7ed",
   "metadata": {},
   "outputs": [
    {
     "data": {
      "text/plain": [
       "'http://0.0.0.0:5000'"
      ]
     },
     "execution_count": 5,
     "metadata": {},
     "output_type": "execute_result"
    }
   ],
   "source": [
    "mlflow.tracking.get_tracking_uri()"
   ]
  },
  {
   "cell_type": "code",
   "execution_count": 6,
   "id": "6910adfd",
   "metadata": {},
   "outputs": [
    {
     "name": "stderr",
     "output_type": "stream",
     "text": [
      "2022/01/25 15:57:16 INFO mlflow.tracking.fluent: Experiment with name 'ElasticNet_wine1' does not exist. Creating a new experiment.\n"
     ]
    },
    {
     "data": {
      "text/plain": [
       "<Experiment: artifact_location='mlruns/2', experiment_id='2', lifecycle_stage='active', name='ElasticNet_wine1', tags={}>"
      ]
     },
     "execution_count": 6,
     "metadata": {},
     "output_type": "execute_result"
    }
   ],
   "source": [
    "exp_name = \"ElasticNet_wine1\"\n",
    "mlflow.set_experiment(exp_name)"
   ]
  },
  {
   "cell_type": "code",
   "execution_count": 7,
   "id": "73a35282",
   "metadata": {},
   "outputs": [
    {
     "name": "stdout",
     "output_type": "stream",
     "text": [
      "[2022-01-25 15:57:24 +0530] [167] [INFO] Starting gunicorn 20.1.0\n",
      "[2022-01-25 15:57:24 +0530] [167] [INFO] Listening at: http://127.0.0.1:5000 (167)\n",
      "[2022-01-25 15:57:24 +0530] [167] [INFO] Using worker: sync\n",
      "[2022-01-25 15:57:24 +0530] [168] [INFO] Booting worker with pid: 168\n",
      "^C\n",
      "[2022-01-25 15:57:45 +0530] [167] [INFO] Handling signal: int\n",
      "[2022-01-25 15:57:46 +0530] [168] [INFO] Worker exiting (pid: 168)\n"
     ]
    }
   ],
   "source": [
    "!mlflow ui"
   ]
  },
  {
   "cell_type": "code",
   "execution_count": 8,
   "id": "9954157f",
   "metadata": {},
   "outputs": [],
   "source": [
    "def eval_matrics(actual, pred):\n",
    "    \"\"\"compute relevant metrics\"\"\"\n",
    "    rmse = np.sqrt(mean_squared_error(actual, pred))\n",
    "    mae = mean_absolute_error(actual, pred)\n",
    "    r2= r2_score(actual, pred)\n",
    "    \n",
    "    return rmse, mae, r2\n",
    "\n",
    "def load_data(data_path):\n",
    "    \"\"\"load the data and split it into training and test set\"\"\"\n",
    "    df = pd.read_csv(data_path)\n",
    "    \n",
    "    #spliting the data into train and test set(0.75 and 0.25 respectively)\n",
    "    train, test = train_test_split(df, random_state= 42)\n",
    "    \n",
    "    train_x = train.drop([\"quality\"], axis= 1)\n",
    "    test_x = test.drop([\"quality\"], axis= 1)\n",
    "    train_y = train[[\"quality\"]]\n",
    "    test_y = test[[\"quality\"]]\n",
    "    \n",
    "    return train_x, train_y, test_x, test_y"
   ]
  },
  {
   "cell_type": "code",
   "execution_count": 16,
   "id": "50e10130",
   "metadata": {},
   "outputs": [],
   "source": [
    "def train(alpha=0.5, l1_ratio=0.5):\n",
    "    \"\"\"train the model with the parameters given\"\"\"\n",
    "    warnings.filterwarnings(\"ignore\")\n",
    "    np.random.seed(42)\n",
    "    \n",
    "    #reed the wwine-quality csv file and make sure that you're running this from the root of MLflow\n",
    "    data_path = \"data/wine-quality.csv\"\n",
    "    \n",
    "    train_x, train_y, test_x, test_y = load_data(data_path)\n",
    "    \n",
    "    #useful for multiple runs\n",
    "    with mlflow.start_run():\n",
    "        #execute ElasticNet\n",
    "        lr = ElasticNet(alpha= alpha, l1_ratio= l1_ratio, random_state= 42)\n",
    "        lr.fit(train_x, train_y)\n",
    "        \n",
    "        #evaluate using mwtrics\n",
    "        pred_y = lr.predict(test_x)\n",
    "        (rmse, mae, r2) = eval_matrics(test_y, pred_y)\n",
    "        \n",
    "        #print the metrics\n",
    "        print(f\"ElasticNet model (alpha = {alpha}, l1_ratio = {l1_ratio}):\")\n",
    "        print(f\"RMSE: {rmse}\")\n",
    "        print(f\"MAE: {mae}\")\n",
    "        print(f\"R2: {r2}\")\n",
    "        \n",
    "        #log parameters, metrics and model to MLflow\n",
    "        mlflow.log_param(key= \"alpha\", value= alpha)\n",
    "        mlflow.log_param(key= \"l1_ration\", value= l1_ratio)\n",
    "        mlflow.log_metric(key= \"rmse\", value= rmse)\n",
    "        mlflow.log_metrics({\"mae\": mae, \"r2\": r2})\n",
    "        mlflow.log_artifact(data_path)\n",
    "        print(f\"Save to {mlflow.get_artifact_uri()}\")\n",
    "        \n",
    "        mlflow.sklearn.log_model(lr, \"model\")"
   ]
  },
  {
   "cell_type": "code",
   "execution_count": 27,
   "id": "2077b0f6",
   "metadata": {},
   "outputs": [
    {
     "name": "stdout",
     "output_type": "stream",
     "text": [
      "ElasticNet model (alpha = 0.5, l1_ratio = 0.5):\n",
      "RMSE: 0.821195103195106\n",
      "MAE: 0.6338934920844772\n",
      "R2: 0.1313572669551294\n",
      "Save to mlruns/1/6f3a6a194d2a427a87391730fa153988/artifacts\n"
     ]
    }
   ],
   "source": [
    "train(0.5, 0.5)"
   ]
  },
  {
   "cell_type": "code",
   "execution_count": 28,
   "id": "ff2c45b8",
   "metadata": {},
   "outputs": [
    {
     "name": "stdout",
     "output_type": "stream",
     "text": [
      "ElasticNet model (alpha = 0.2, l1_ratio = 0.2):\n",
      "RMSE: 0.7854974519820409\n",
      "MAE: 0.6171230074647533\n",
      "R2: 0.20523625056452044\n",
      "Save to mlruns/1/be4dc08caed046efa2856fa817858ffd/artifacts\n"
     ]
    }
   ],
   "source": [
    "train(0.2, 0.2)"
   ]
  },
  {
   "cell_type": "code",
   "execution_count": 29,
   "id": "619bc282",
   "metadata": {},
   "outputs": [
    {
     "name": "stdout",
     "output_type": "stream",
     "text": [
      "ElasticNet model (alpha = 0.1, l1_ratio = 0.1):\n",
      "RMSE: 0.7801538925222868\n",
      "MAE: 0.6142807154069012\n",
      "R2: 0.21601266265188934\n",
      "Save to mlruns/1/be48e6f00e744d34aded311a8d92783e/artifacts\n"
     ]
    }
   ],
   "source": [
    "train(0.1, 0.1)"
   ]
  },
  {
   "cell_type": "markdown",
   "id": "5eb1cbde",
   "metadata": {},
   "source": [
    "# 2. Packaging the experiment as a MLflow project as conda env"
   ]
  },
  {
   "cell_type": "markdown",
   "id": "c9e2c48b",
   "metadata": {},
   "source": [
    "# 3. Deploy the model"
   ]
  },
  {
   "cell_type": "markdown",
   "id": "419fc3bc",
   "metadata": {},
   "source": [
    "# 4. Tagging runs"
   ]
  },
  {
   "cell_type": "code",
   "execution_count": 111,
   "id": "9fd35089",
   "metadata": {},
   "outputs": [
    {
     "name": "stdout",
     "output_type": "stream",
     "text": [
      "\u001b[4mExperiments:\u001b[0m\n",
      "\n",
      "<Experiment: artifact_location='mlruns/0', experiment_id='0', lifecycle_stage='active', name='Default', tags={}>\n",
      "<Experiment: artifact_location='mlruns/1', experiment_id='1', lifecycle_stage='active', name='ElasticNet_wine', tags={}>\n",
      "\n",
      " ---------------------------------------------------------------------------------------------------- \n",
      "\n",
      "\u001b[4mRun info:\u001b[0m\n",
      "\n",
      "<RunInfo: artifact_uri='mlruns/1/be48e6f00e744d34aded311a8d92783e/artifacts', end_time=1643012899525, experiment_id='1', lifecycle_stage='active', run_id='be48e6f00e744d34aded311a8d92783e', run_uuid='be48e6f00e744d34aded311a8d92783e', start_time=1643012895834, status='FINISHED', user_id='apurv-dell'>\n",
      "\n",
      "<RunInfo: artifact_uri='mlruns/1/be4dc08caed046efa2856fa817858ffd/artifacts', end_time=1643012888979, experiment_id='1', lifecycle_stage='active', run_id='be4dc08caed046efa2856fa817858ffd', run_uuid='be4dc08caed046efa2856fa817858ffd', start_time=1643012885548, status='FINISHED', user_id='apurv-dell'>\n",
      "\n",
      "<RunInfo: artifact_uri='mlruns/1/6f3a6a194d2a427a87391730fa153988/artifacts', end_time=1643012726640, experiment_id='1', lifecycle_stage='active', run_id='6f3a6a194d2a427a87391730fa153988', run_uuid='6f3a6a194d2a427a87391730fa153988', start_time=1643012723171, status='FINISHED', user_id='apurv-dell'>\n",
      "\n",
      "<RunInfo: artifact_uri='mlruns/1/7d10a107f63b49108f16fac1e8984a6f/artifacts', end_time=1643012712348, experiment_id='1', lifecycle_stage='active', run_id='7d10a107f63b49108f16fac1e8984a6f', run_uuid='7d10a107f63b49108f16fac1e8984a6f', start_time=1643012706176, status='FINISHED', user_id='apurv-dell'>\n"
     ]
    }
   ],
   "source": [
    "from datetime import datetime\n",
    "from mlflow.tracking import MlflowClient\n",
    "\n",
    "client = MlflowClient()\n",
    "experiments = client.list_experiments()\n",
    "\n",
    "print(\"\\033[4m\" + \"Experiments:\" + \"\\033[0m\" + \"\\n\")\n",
    "print(*experiments, sep=\"\\n\")\n",
    "\n",
    "print(\"\\n\", \"-\"*100, \"\\n\")\n",
    "\n",
    "print(\"\\033[4m\" + \"Run info:\" + \"\\033[0m\" + \"\\n\")\n",
    "print(*client.list_run_infos(1), sep=\"\\n\\n\")"
   ]
  },
  {
   "cell_type": "code",
   "execution_count": 112,
   "id": "48a2e2a9",
   "metadata": {},
   "outputs": [
    {
     "name": "stdout",
     "output_type": "stream",
     "text": [
      "<Run: data=<RunData: metrics={'mae': 0.6142807154069012,\n",
      " 'r2': 0.21601266265188934,\n",
      " 'rmse': 0.7801538925222868}, params={'alpha': '0.1', 'l1_ration': '0.1'}, tags={'mlflow.log-model.history': '[{\"run_id\": \"be48e6f00e744d34aded311a8d92783e\", '\n",
      "                             '\"artifact_path\": \"model\", \"utc_time_created\": '\n",
      "                             '\"2022-01-24 08:28:16.425494\", \"flavors\": '\n",
      "                             '{\"python_function\": {\"model_path\": \"model.pkl\", '\n",
      "                             '\"loader_module\": \"mlflow.sklearn\", '\n",
      "                             '\"python_version\": \"3.9.7\", \"env\": \"conda.yaml\"}, '\n",
      "                             '\"sklearn\": {\"pickled_model\": \"model.pkl\", '\n",
      "                             '\"sklearn_version\": \"1.0.1\", '\n",
      "                             '\"serialization_format\": \"cloudpickle\"}}}]',\n",
      " 'mlflow.source.name': '/home/apurv-dell/miniconda3/envs/myenv/lib/python3.9/site-packages/ipykernel_launcher.py',\n",
      " 'mlflow.source.type': 'LOCAL',\n",
      " 'mlflow.user': 'apurv-dell'}>, info=<RunInfo: artifact_uri='mlruns/1/be48e6f00e744d34aded311a8d92783e/artifacts', end_time=1643012899525, experiment_id='1', lifecycle_stage='active', run_id='be48e6f00e744d34aded311a8d92783e', run_uuid='be48e6f00e744d34aded311a8d92783e', start_time=1643012895834, status='FINISHED', user_id='apurv-dell'>>\n"
     ]
    }
   ],
   "source": [
    "# get the run\n",
    "_run = client.get_run(run_id=\"be48e6f00e744d34aded311a8d92783e\")\n",
    "print(_run)"
   ]
  },
  {
   "cell_type": "code",
   "execution_count": 122,
   "id": "f8db3338",
   "metadata": {},
   "outputs": [],
   "source": [
    "# add a tag to the run\n",
    "dt = datetime.now().strftime(\"%d-%m-%Y %H:%M:%S.%f\")\n",
    "client.set_tag(_run.info.run_id, \"deployed\", dt)"
   ]
  },
  {
   "cell_type": "code",
   "execution_count": 17,
   "id": "ba18bdf1",
   "metadata": {},
   "outputs": [
    {
     "name": "stdout",
     "output_type": "stream",
     "text": [
      "[2022-01-27 12:25:21 +0530] [355] [INFO] Starting gunicorn 20.1.0\n",
      "[2022-01-27 12:25:21 +0530] [355] [INFO] Listening at: http://127.0.0.1:5000 (355)\n",
      "[2022-01-27 12:25:21 +0530] [355] [INFO] Using worker: sync\n",
      "[2022-01-27 12:25:21 +0530] [356] [INFO] Booting worker with pid: 356\n",
      "^C\n",
      "[2022-01-27 12:25:47 +0530] [355] [INFO] Handling signal: int\n",
      "[2022-01-27 12:25:47 +0530] [356] [INFO] Worker exiting (pid: 356)\n"
     ]
    }
   ],
   "source": [
    "!mlflow ui"
   ]
  },
  {
   "cell_type": "code",
   "execution_count": null,
   "id": "6ed1a4cc",
   "metadata": {},
   "outputs": [],
   "source": []
  }
 ],
 "metadata": {
  "kernelspec": {
   "display_name": "Python 3 (ipykernel)",
   "language": "python",
   "name": "python3"
  },
  "language_info": {
   "codemirror_mode": {
    "name": "ipython",
    "version": 3
   },
   "file_extension": ".py",
   "mimetype": "text/x-python",
   "name": "python",
   "nbconvert_exporter": "python",
   "pygments_lexer": "ipython3",
   "version": "3.9.7"
  }
 },
 "nbformat": 4,
 "nbformat_minor": 5
}
